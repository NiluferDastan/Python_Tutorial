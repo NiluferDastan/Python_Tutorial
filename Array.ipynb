{
 "cells": [
  {
   "cell_type": "code",
   "execution_count": 1,
   "id": "84cbde8e",
   "metadata": {},
   "outputs": [],
   "source": [
    "import numpy as np"
   ]
  },
  {
   "cell_type": "code",
   "execution_count": 2,
   "id": "7daf8e7d",
   "metadata": {},
   "outputs": [],
   "source": [
    "a_rand=np.random.rand(1,5)"
   ]
  },
  {
   "cell_type": "code",
   "execution_count": 3,
   "id": "2557dad1",
   "metadata": {},
   "outputs": [
    {
     "data": {
      "text/plain": [
       "array([[0.35402434, 0.04707755, 0.81779006, 0.17407815, 0.05606456]])"
      ]
     },
     "execution_count": 3,
     "metadata": {},
     "output_type": "execute_result"
    }
   ],
   "source": [
    "a_rand"
   ]
  },
  {
   "cell_type": "code",
   "execution_count": 4,
   "id": "5385526c",
   "metadata": {},
   "outputs": [],
   "source": [
    "b_rand=np.random.randint(1,6,3)"
   ]
  },
  {
   "cell_type": "code",
   "execution_count": 5,
   "id": "5bf8e6d4",
   "metadata": {},
   "outputs": [
    {
     "data": {
      "text/plain": [
       "array([3, 5, 2])"
      ]
     },
     "execution_count": 5,
     "metadata": {},
     "output_type": "execute_result"
    }
   ],
   "source": [
    "b_rand"
   ]
  },
  {
   "cell_type": "code",
   "execution_count": 6,
   "id": "302640bb",
   "metadata": {},
   "outputs": [],
   "source": [
    "c_rand=np.random.randint(2,10,3)"
   ]
  },
  {
   "cell_type": "code",
   "execution_count": 7,
   "id": "f2ff719c",
   "metadata": {},
   "outputs": [
    {
     "data": {
      "text/plain": [
       "array([3, 4, 3])"
      ]
     },
     "execution_count": 7,
     "metadata": {},
     "output_type": "execute_result"
    }
   ],
   "source": [
    "c_rand"
   ]
  },
  {
   "cell_type": "markdown",
   "id": "cda7633c",
   "metadata": {},
   "source": [
    "This is numbered on ordinary numbers "
   ]
  },
  {
   "cell_type": "code",
   "execution_count": null,
   "id": "e1c7fd8d",
   "metadata": {},
   "outputs": [],
   "source": [
    "c_arr=np.arange(1,6,1)"
   ]
  },
  {
   "cell_type": "code",
   "execution_count": 9,
   "id": "ad583c61",
   "metadata": {
    "scrolled": true
   },
   "outputs": [
    {
     "data": {
      "text/plain": [
       "array([1, 2, 3, 4, 5])"
      ]
     },
     "execution_count": 9,
     "metadata": {},
     "output_type": "execute_result"
    }
   ],
   "source": [
    "c_arr"
   ]
  },
  {
   "cell_type": "markdown",
   "id": "e73f4da1",
   "metadata": {},
   "source": [
    "This is like two and half You're seeing now the five numbers of course Because I type here 5\n"
   ]
  },
  {
   "cell_type": "code",
   "execution_count": 10,
   "id": "f679ca01",
   "metadata": {},
   "outputs": [],
   "source": [
    "d_arr=np.linspace(50,60,5)"
   ]
  },
  {
   "cell_type": "code",
   "execution_count": 11,
   "id": "4c9ff75f",
   "metadata": {},
   "outputs": [
    {
     "data": {
      "text/plain": [
       "array([50. , 52.5, 55. , 57.5, 60. ])"
      ]
     },
     "execution_count": 11,
     "metadata": {},
     "output_type": "execute_result"
    }
   ],
   "source": [
    "d_arr"
   ]
  },
  {
   "cell_type": "markdown",
   "id": "506608fe",
   "metadata": {},
   "source": [
    "Now we will work on the TXT.file to R work file"
   ]
  },
  {
   "cell_type": "code",
   "execution_count": 50,
   "id": "6c986c61",
   "metadata": {},
   "outputs": [
    {
     "name": "stdout",
     "output_type": "stream",
     "text": [
      "[1, 2, 3]\n"
     ]
    }
   ],
   "source": [
    "import random \n",
    "mylist = [1,2,3]\n",
    "print(mylist)\n"
   ]
  },
  {
   "cell_type": "code",
   "execution_count": 51,
   "id": "044c0eea",
   "metadata": {},
   "outputs": [
    {
     "name": "stdout",
     "output_type": "stream",
     "text": [
      "[1, 2, 3, 4]\n"
     ]
    }
   ],
   "source": [
    "mylist.append(4)\n",
    "print(mylist)\n"
   ]
  },
  {
   "cell_type": "code",
   "execution_count": 52,
   "id": "7974269b",
   "metadata": {},
   "outputs": [],
   "source": [
    "mylist.append(\"MAT1008\")"
   ]
  },
  {
   "cell_type": "code",
   "execution_count": 53,
   "id": "c2bf8747",
   "metadata": {},
   "outputs": [],
   "source": [
    "mylist.append([22, 33])"
   ]
  },
  {
   "cell_type": "code",
   "execution_count": 54,
   "id": "34ca5f67",
   "metadata": {},
   "outputs": [],
   "source": [
    "mylist.append(True)"
   ]
  },
  {
   "cell_type": "code",
   "execution_count": 55,
   "id": "893ec288",
   "metadata": {},
   "outputs": [],
   "source": [
    "mylist.extend([6,7,8,9,10])"
   ]
  },
  {
   "cell_type": "code",
   "execution_count": 56,
   "id": "10c8e61e",
   "metadata": {},
   "outputs": [
    {
     "name": "stdout",
     "output_type": "stream",
     "text": [
      "[1, 2, 3, 4, 'MAT1008', [22, 33], True, 6, 7, 8, 9, 10]\n"
     ]
    }
   ],
   "source": [
    "print(mylist)"
   ]
  },
  {
   "cell_type": "code",
   "execution_count": 57,
   "id": "6a503a48",
   "metadata": {},
   "outputs": [
    {
     "name": "stdout",
     "output_type": "stream",
     "text": [
      "1\n"
     ]
    }
   ],
   "source": [
    "print(mylist[0])"
   ]
  },
  {
   "cell_type": "code",
   "execution_count": 58,
   "id": "4ba84e03",
   "metadata": {},
   "outputs": [
    {
     "name": "stdout",
     "output_type": "stream",
     "text": [
      "10\n"
     ]
    }
   ],
   "source": [
    "print(mylist[-1])"
   ]
  },
  {
   "cell_type": "code",
   "execution_count": 59,
   "id": "eaf9c952",
   "metadata": {},
   "outputs": [
    {
     "name": "stdout",
     "output_type": "stream",
     "text": [
      "[1, 2, 3, 4, 'MAT1008']\n"
     ]
    }
   ],
   "source": [
    "print(mylist[0:5])"
   ]
  },
  {
   "cell_type": "code",
   "execution_count": 60,
   "id": "b7c9aa26",
   "metadata": {},
   "outputs": [
    {
     "name": "stdout",
     "output_type": "stream",
     "text": [
      "[1, 2, 3, 4, 'MAT1008']\n"
     ]
    }
   ],
   "source": [
    "print(mylist[:5])"
   ]
  },
  {
   "cell_type": "code",
   "execution_count": 61,
   "id": "61b5549e",
   "metadata": {},
   "outputs": [
    {
     "name": "stdout",
     "output_type": "stream",
     "text": [
      "[[22, 33], True, 6, 7, 8, 9, 10]\n"
     ]
    }
   ],
   "source": [
    "print(mylist[5:])"
   ]
  },
  {
   "cell_type": "markdown",
   "id": "e4016355",
   "metadata": {},
   "source": [
    "copying"
   ]
  },
  {
   "cell_type": "code",
   "execution_count": 62,
   "id": "d0f071ca",
   "metadata": {},
   "outputs": [],
   "source": [
    "aList = mylist"
   ]
  },
  {
   "cell_type": "code",
   "execution_count": 63,
   "id": "340c295e",
   "metadata": {},
   "outputs": [],
   "source": [
    "aList[0] = \"modifyFirstIndex\""
   ]
  },
  {
   "cell_type": "code",
   "execution_count": 64,
   "id": "54d0a56b",
   "metadata": {},
   "outputs": [
    {
     "name": "stdout",
     "output_type": "stream",
     "text": [
      "['modifyFirstIndex', 2, 3, 4, 'MAT1008', [22, 33], True, 6, 7, 8, 9, 10]\n"
     ]
    }
   ],
   "source": [
    "print(mylist) #not copied, its modified"
   ]
  },
  {
   "cell_type": "markdown",
   "id": "41932275",
   "metadata": {},
   "source": [
    "to have a different list"
   ]
  },
  {
   "cell_type": "code",
   "execution_count": 65,
   "id": "3d925902",
   "metadata": {},
   "outputs": [],
   "source": [
    "blist = mylist[:]"
   ]
  },
  {
   "cell_type": "code",
   "execution_count": 66,
   "id": "44a5ef23",
   "metadata": {},
   "outputs": [],
   "source": [
    "blist[0] = \"blistFirst\"\n"
   ]
  },
  {
   "cell_type": "code",
   "execution_count": 67,
   "id": "240e726b",
   "metadata": {},
   "outputs": [
    {
     "name": "stdout",
     "output_type": "stream",
     "text": [
      "['blistFirst', 2, 3, 4, 'MAT1008', [22, 33], True, 6, 7, 8, 9, 10]\n"
     ]
    }
   ],
   "source": [
    "print(blist)\n"
   ]
  },
  {
   "cell_type": "code",
   "execution_count": 68,
   "id": "90299ce6",
   "metadata": {},
   "outputs": [
    {
     "name": "stdout",
     "output_type": "stream",
     "text": [
      "After we changed first index of list b, mylist is : \n",
      "['modifyFirstIndex', 2, 3, 4, 'MAT1008', [22, 33], True, 6, 7, 8, 9, 10]\n"
     ]
    }
   ],
   "source": [
    "print(\"After we changed first index of list b, mylist is : \\n\" + str(mylist))"
   ]
  },
  {
   "cell_type": "code",
   "execution_count": 69,
   "id": "025ac2ad",
   "metadata": {},
   "outputs": [
    {
     "name": "stdout",
     "output_type": "stream",
     "text": [
      "4\n"
     ]
    }
   ],
   "source": [
    "print(mylist.index(\"MAT1008\"))"
   ]
  },
  {
   "cell_type": "code",
   "execution_count": 120,
   "id": "8380fa46",
   "metadata": {},
   "outputs": [
    {
     "name": "stdout",
     "output_type": "stream",
     "text": [
      "MAT1008\n"
     ]
    }
   ],
   "source": [
    "print(mylist[4])"
   ]
  },
  {
   "cell_type": "markdown",
   "id": "eaa55be7",
   "metadata": {},
   "source": [
    "DATA ANALYSIS ON TXT DATA"
   ]
  },
  {
   "cell_type": "code",
   "execution_count": 104,
   "id": "299f00ef",
   "metadata": {},
   "outputs": [],
   "source": [
    "heights = np.genfromtxt(R\"C:\\Users\\pc\\Desktop\\NİLUFER 2\\nilufer\\NİLÜFER\\ÖRNEKLEME\\Mathemetical Data Analysis on Python\\height.txt\", delimiter=\",\")"
   ]
  },
  {
   "cell_type": "code",
   "execution_count": 105,
   "id": "884f202e",
   "metadata": {},
   "outputs": [
    {
     "name": "stdout",
     "output_type": "stream",
     "text": [
      "1015\n"
     ]
    }
   ],
   "source": [
    "print(len(heights))"
   ]
  },
  {
   "cell_type": "code",
   "execution_count": 106,
   "id": "5c09ba03",
   "metadata": {},
   "outputs": [],
   "source": [
    "weights=np.genfromtxt(R\"C:\\Users\\pc\\Desktop\\NİLUFER 2\\nilufer\\NİLÜFER\\ÖRNEKLEME\\Mathemetical Data Analysis on Python\\weight.txt\",delimiter=\",\")"
   ]
  },
  {
   "cell_type": "code",
   "execution_count": 107,
   "id": "88f5c021",
   "metadata": {},
   "outputs": [
    {
     "name": "stdout",
     "output_type": "stream",
     "text": [
      "[180. 215. 210. ... 205. 190. 195.]\n"
     ]
    }
   ],
   "source": [
    "print(weights)"
   ]
  },
  {
   "cell_type": "code",
   "execution_count": 108,
   "id": "8cbb93e1",
   "metadata": {},
   "outputs": [
    {
     "name": "stdout",
     "output_type": "stream",
     "text": [
      "1015\n"
     ]
    }
   ],
   "source": [
    "print(len(weights))"
   ]
  },
  {
   "cell_type": "markdown",
   "id": "cc5c9ddf",
   "metadata": {},
   "source": [
    "mostly when ı a give you assignment ı will ask you something like that\n",
    "this weight they kept less pause ı would like the convert it kilogram ı want to use this numbers copy of course\n",
    "I can convert to kilogram my heights you can give a new variable name but won't forget when you do this .You have to remember the last one if you continue This is very important\n",
    "Because Their Usa especially"
   ]
  },
  {
   "cell_type": "code",
   "execution_count": 109,
   "id": "46a74684",
   "metadata": {},
   "outputs": [],
   "source": [
    "weights=weights*0.453592"
   ]
  },
  {
   "cell_type": "code",
   "execution_count": 110,
   "id": "63a22802",
   "metadata": {},
   "outputs": [
    {
     "name": "stdout",
     "output_type": "stream",
     "text": [
      "[81.64656 97.52228 95.25432 ... 92.98636 86.18248 88.45044]\n"
     ]
    }
   ],
   "source": [
    "print(weights)"
   ]
  },
  {
   "cell_type": "markdown",
   "id": "f287b6db",
   "metadata": {},
   "source": [
    "Same things I want to do I did the opposite "
   ]
  },
  {
   "cell_type": "code",
   "execution_count": 111,
   "id": "ed28e5f9",
   "metadata": {},
   "outputs": [],
   "source": [
    "heights=heights*0.0254"
   ]
  },
  {
   "cell_type": "code",
   "execution_count": 112,
   "id": "1ff1b207",
   "metadata": {},
   "outputs": [
    {
     "name": "stdout",
     "output_type": "stream",
     "text": [
      "[1.8796 1.8796 1.8288 ... 1.905  1.905  1.8542]\n"
     ]
    }
   ],
   "source": [
    "print(heights)"
   ]
  },
  {
   "cell_type": "code",
   "execution_count": 113,
   "id": "1d83b568",
   "metadata": {},
   "outputs": [],
   "source": [
    "bmi=weights/heights**2"
   ]
  },
  {
   "cell_type": "code",
   "execution_count": 114,
   "id": "b5020335",
   "metadata": {},
   "outputs": [
    {
     "name": "stdout",
     "output_type": "stream",
     "text": [
      "[23.11037639 27.60406069 28.48080465 ... 25.62295933 23.74810865\n",
      " 25.72686361]\n"
     ]
    }
   ],
   "source": [
    "print(bmi)"
   ]
  },
  {
   "cell_type": "markdown",
   "id": "8c05af06",
   "metadata": {},
   "source": [
    "I don't know how can explain that Because I am not expert on this topic"
   ]
  },
  {
   "cell_type": "code",
   "execution_count": 115,
   "id": "0a01785a",
   "metadata": {},
   "outputs": [
    {
     "name": "stdout",
     "output_type": "stream",
     "text": [
      "<class 'numpy.ndarray'>\n"
     ]
    }
   ],
   "source": [
    "print(type(bmi))"
   ]
  },
  {
   "cell_type": "code",
   "execution_count": 118,
   "id": "982b7fed",
   "metadata": {},
   "outputs": [
    {
     "name": "stdout",
     "output_type": "stream",
     "text": [
      "Max of bmi = 35.26194861031698\n"
     ]
    }
   ],
   "source": [
    "print(\"Max of bmi = \" + str(np.max(bmi)))  #This code directly give maximum of bmi"
   ]
  },
  {
   "cell_type": "markdown",
   "id": "09e9e128",
   "metadata": {},
   "source": [
    "I can say the strong woman or man I can understand 35.26"
   ]
  },
  {
   "cell_type": "code",
   "execution_count": 119,
   "id": "d213a15d",
   "metadata": {},
   "outputs": [
    {
     "name": "stdout",
     "output_type": "stream",
     "text": [
      "Min of bmi = 19.498447103560874\n"
     ]
    }
   ],
   "source": [
    "print(\"Min of bmi = \" + str(np.min(bmi)))  #This opposite (min)"
   ]
  },
  {
   "cell_type": "code",
   "execution_count": 121,
   "id": "eda24b41",
   "metadata": {},
   "outputs": [],
   "source": [
    "count_bmi21orless = np.sum(bmi<21)"
   ]
  },
  {
   "cell_type": "code",
   "execution_count": 122,
   "id": "2ac76310",
   "metadata": {},
   "outputs": [
    {
     "data": {
      "text/plain": [
       "11"
      ]
     },
     "execution_count": 122,
     "metadata": {},
     "output_type": "execute_result"
    }
   ],
   "source": [
    "count_bmi21orless   #11 people"
   ]
  },
  {
   "cell_type": "code",
   "execution_count": 123,
   "id": "be7cec99",
   "metadata": {},
   "outputs": [
    {
     "name": "stdout",
     "output_type": "stream",
     "text": [
      "number of people having less bmi than 21 = 11\n"
     ]
    }
   ],
   "source": [
    "print(\"number of people having less bmi than 21 = \" + str(count_bmi21orless))"
   ]
  },
  {
   "cell_type": "markdown",
   "id": "4013d20e",
   "metadata": {},
   "source": [
    "I would like the put some condition to my code. I am saying can you show me like 21 or less of bmi?\n",
    " How many number(bmi) they are my result less than 21 = 11\n",
    "    I want to print number of the people have bmi more than 21 and less than.\n",
    "Now I'm putting 2 condition. How many number(bmi) they are my result less than 21 = 11 \n",
    "You can print your string with your results of data.This is very nice."
   ]
  },
  {
   "cell_type": "code",
   "execution_count": 124,
   "id": "d6d482ee",
   "metadata": {},
   "outputs": [],
   "source": [
    "bmi_25_30 = np.sum((bmi > 25) & (bmi < 30))"
   ]
  },
  {
   "cell_type": "code",
   "execution_count": 125,
   "id": "09ca2e04",
   "metadata": {},
   "outputs": [
    {
     "data": {
      "text/plain": [
       "636"
      ]
     },
     "execution_count": 125,
     "metadata": {},
     "output_type": "execute_result"
    }
   ],
   "source": [
    "bmi_25_30"
   ]
  },
  {
   "cell_type": "code",
   "execution_count": 126,
   "id": "bb64f28f",
   "metadata": {},
   "outputs": [],
   "source": [
    "import pandas as pd"
   ]
  },
  {
   "cell_type": "code",
   "execution_count": null,
   "id": "c7b1b502",
   "metadata": {},
   "outputs": [],
   "source": [
    "grades = pd.read_csv()"
   ]
  }
 ],
 "metadata": {
  "kernelspec": {
   "display_name": "Python 3 (ipykernel)",
   "language": "python",
   "name": "python3"
  },
  "language_info": {
   "codemirror_mode": {
    "name": "ipython",
    "version": 3
   },
   "file_extension": ".py",
   "mimetype": "text/x-python",
   "name": "python",
   "nbconvert_exporter": "python",
   "pygments_lexer": "ipython3",
   "version": "3.9.13"
  }
 },
 "nbformat": 4,
 "nbformat_minor": 5
}
