{
 "cells": [
  {
   "cell_type": "markdown",
   "id": "4c4a1c78",
   "metadata": {},
   "source": [
    "# Map, Filter, Reduce and Lambda Expressions"
   ]
  },
  {
   "cell_type": "code",
   "execution_count": 55,
   "id": "edb9718b",
   "metadata": {},
   "outputs": [],
   "source": [
    "def square_it(x):\n",
    "    return x**2"
   ]
  },
  {
   "cell_type": "code",
   "execution_count": 56,
   "id": "927570a0",
   "metadata": {},
   "outputs": [
    {
     "data": {
      "text/plain": [
       "25"
      ]
     },
     "execution_count": 56,
     "metadata": {},
     "output_type": "execute_result"
    }
   ],
   "source": [
    "square_it(5)"
   ]
  },
  {
   "cell_type": "code",
   "execution_count": 57,
   "id": "a0da81c4",
   "metadata": {},
   "outputs": [],
   "source": [
    "numbers=range(1,6)"
   ]
  },
  {
   "cell_type": "code",
   "execution_count": 58,
   "id": "c3e4e9c3",
   "metadata": {},
   "outputs": [],
   "source": [
    "numbers=list(range(1,6))\n",
    "numbers=[*range(1,6)] #Do list with broadcasting"
   ]
  },
  {
   "cell_type": "code",
   "execution_count": 59,
   "id": "24d459df",
   "metadata": {},
   "outputs": [
    {
     "name": "stdout",
     "output_type": "stream",
     "text": [
      "[1, 2, 3, 4, 5]\n",
      "[1, 4, 9, 16, 25]\n"
     ]
    }
   ],
   "source": [
    "#Not using map command\n",
    "numbers=[*range(1,6)]\n",
    "print(numbers)\n",
    "for index in range(len(numbers)):\n",
    "    numbers[index]=square_it(numbers[index])\n",
    "print(numbers)"
   ]
  },
  {
   "cell_type": "code",
   "execution_count": 60,
   "id": "97732fba",
   "metadata": {},
   "outputs": [
    {
     "data": {
      "text/plain": [
       "[1, 4, 9, 16, 25]"
      ]
     },
     "execution_count": 60,
     "metadata": {},
     "output_type": "execute_result"
    }
   ],
   "source": [
    "numbers=[*range(1,6)]\n",
    "[*map(square_it, numbers)]  #map should use broadcasting or to list "
   ]
  },
  {
   "cell_type": "code",
   "execution_count": 61,
   "id": "0f2bb92a",
   "metadata": {},
   "outputs": [],
   "source": [
    "def cift_sayilari_filtrele(x):\n",
    "    if x%2==0:\n",
    "        return x\n",
    "    else:\n",
    "        return None"
   ]
  },
  {
   "cell_type": "code",
   "execution_count": 62,
   "id": "23cb71f0",
   "metadata": {},
   "outputs": [
    {
     "data": {
      "text/plain": [
       "4"
      ]
     },
     "execution_count": 62,
     "metadata": {},
     "output_type": "execute_result"
    }
   ],
   "source": [
    "cift_sayilari_filtrele(4)"
   ]
  },
  {
   "cell_type": "code",
   "execution_count": 63,
   "id": "c25fa31b",
   "metadata": {},
   "outputs": [],
   "source": [
    "#Pythonista writing\n",
    "def cift_sayilari_filtrele(x):\n",
    "    #if x%2==0:\n",
    "    #   return x\n",
    "    return x if x%2==0 else None"
   ]
  },
  {
   "cell_type": "code",
   "execution_count": 64,
   "id": "b2a19965",
   "metadata": {},
   "outputs": [
    {
     "data": {
      "text/plain": [
       "10"
      ]
     },
     "execution_count": 64,
     "metadata": {},
     "output_type": "execute_result"
    }
   ],
   "source": [
    "cift_sayilari_filtrele(10)"
   ]
  },
  {
   "cell_type": "code",
   "execution_count": 65,
   "id": "22aff5ca",
   "metadata": {},
   "outputs": [
    {
     "data": {
      "text/plain": [
       "[2, 4]"
      ]
     },
     "execution_count": 65,
     "metadata": {},
     "output_type": "execute_result"
    }
   ],
   "source": [
    "numbers = [*range(1,6)]\n",
    "[*filter(cift_sayilari_filtrele, numbers)]"
   ]
  },
  {
   "cell_type": "raw",
   "id": "e1e999e7",
   "metadata": {},
   "source": [
    "#İşi yaparken yol üstünde oluşturan fonksiyon lambda\n",
    "The function that creates on the path while doing the job is lambda"
   ]
  },
  {
   "cell_type": "code",
   "execution_count": 66,
   "id": "252ddd9b",
   "metadata": {},
   "outputs": [
    {
     "data": {
      "text/plain": [
       "[1, 4, 9, 16, 25]"
      ]
     },
     "execution_count": 66,
     "metadata": {},
     "output_type": "execute_result"
    }
   ],
   "source": [
    "numbers = [*range(1,6)]\n",
    "list(map(lambda number: number**2, numbers))"
   ]
  },
  {
   "cell_type": "code",
   "execution_count": 67,
   "id": "eb0241ed",
   "metadata": {},
   "outputs": [
    {
     "data": {
      "text/plain": [
       "[1, 4, 9, 16, 25]"
      ]
     },
     "execution_count": 67,
     "metadata": {},
     "output_type": "execute_result"
    }
   ],
   "source": [
    "numbers = [*range(1,6)]\n",
    "list(map(lambda number: number**2, numbers))"
   ]
  },
  {
   "cell_type": "code",
   "execution_count": 68,
   "id": "4b8a66cc",
   "metadata": {},
   "outputs": [],
   "source": [
    "def square_it(x):\n",
    "    return x**2"
   ]
  },
  {
   "cell_type": "code",
   "execution_count": 69,
   "id": "c34eb499",
   "metadata": {},
   "outputs": [
    {
     "data": {
      "text/plain": [
       "[1, 4, 9, 16, 25]"
      ]
     },
     "execution_count": 69,
     "metadata": {},
     "output_type": "execute_result"
    }
   ],
   "source": [
    "numbers = [*range(1,6)]\n",
    "list(map(lambda number: number**2, numbers))"
   ]
  },
  {
   "cell_type": "code",
   "execution_count": 70,
   "id": "74334343",
   "metadata": {},
   "outputs": [
    {
     "data": {
      "text/plain": [
       "[2, 4]"
      ]
     },
     "execution_count": 70,
     "metadata": {},
     "output_type": "execute_result"
    }
   ],
   "source": [
    "numbers= [*range(1,6)]\n",
    "[*filter(lambda x: x if x%2==0 else None, numbers)]"
   ]
  },
  {
   "cell_type": "code",
   "execution_count": 71,
   "id": "655176f0",
   "metadata": {},
   "outputs": [
    {
     "data": {
      "text/plain": [
       "[None, 2, None, 4, None]"
      ]
     },
     "execution_count": 71,
     "metadata": {},
     "output_type": "execute_result"
    }
   ],
   "source": [
    "numbers = [*range(1,6)]\n",
    "list(map(lambda number: number if number%2==0 else None, numbers))"
   ]
  },
  {
   "cell_type": "markdown",
   "id": "a8c9d662",
   "metadata": {},
   "source": [
    "# EXAMPLES"
   ]
  },
  {
   "cell_type": "code",
   "execution_count": 88,
   "id": "ec3dff3d",
   "metadata": {},
   "outputs": [
    {
     "name": "stdout",
     "output_type": "stream",
     "text": [
      "[2, 4, 6, 8]\n"
     ]
    }
   ],
   "source": [
    "# Python program to demonstrate working of map.\n",
    " \n",
    "# Return double of n\n",
    "def addition(n):\n",
    "    return n + n\n",
    " \n",
    "# We double all numbers using map()\n",
    "numbers = (1, 2, 3, 4)\n",
    "result = map(addition, numbers)\n",
    "print(list(result))"
   ]
  },
  {
   "cell_type": "code",
   "execution_count": 89,
   "id": "b8a8b030",
   "metadata": {},
   "outputs": [
    {
     "name": "stdout",
     "output_type": "stream",
     "text": [
      "[2, 4, 6, 8]\n"
     ]
    }
   ],
   "source": [
    "# Double all numbers using map and lambda\n",
    " \n",
    "numbers = (1, 2, 3, 4)\n",
    "result = map(lambda x: x + x, numbers)\n",
    "print(list(result))"
   ]
  },
  {
   "cell_type": "code",
   "execution_count": 90,
   "id": "01c3dc89",
   "metadata": {},
   "outputs": [
    {
     "name": "stdout",
     "output_type": "stream",
     "text": [
      "[5, 7, 9]\n"
     ]
    }
   ],
   "source": [
    "# Add two lists using map and lambda\n",
    " \n",
    "numbers1 = [1, 2, 3]\n",
    "numbers2 = [4, 5, 6]\n",
    " \n",
    "result = map(lambda x, y: x + y, numbers1, numbers2)\n",
    "print(list(result))"
   ]
  },
  {
   "cell_type": "code",
   "execution_count": 100,
   "id": "0d472e5e",
   "metadata": {},
   "outputs": [
    {
     "name": "stdout",
     "output_type": "stream",
     "text": [
      "[['s', 'a', 't'], ['b', 'a', 't'], ['c', 'a', 't'], ['m', 'a', 't']]\n"
     ]
    }
   ],
   "source": [
    "# List of strings\n",
    "l = ['sat', 'bat', 'cat', 'mat']\n",
    " \n",
    "# map() can listify the list of strings individually\n",
    "test = list(map(list, l))\n",
    "print(test)"
   ]
  },
  {
   "cell_type": "code",
   "execution_count": 101,
   "id": "f536916c",
   "metadata": {},
   "outputs": [
    {
     "name": "stdout",
     "output_type": "stream",
     "text": [
      "[1, 4, 3, 8, 5]\n"
     ]
    }
   ],
   "source": [
    "# Define a function that doubles even numbers and leaves odd numbers as is\n",
    "def double_even(num):\n",
    "    if num % 2 == 0:\n",
    "        return num * 2\n",
    "    else:\n",
    "        return num\n",
    " \n",
    "# Create a list of numbers to apply the function to\n",
    "numbers = [1, 2, 3, 4, 5]\n",
    " \n",
    "# Use map to apply the function to each element in the list\n",
    "result = list(map(double_even, numbers))\n",
    " \n",
    "# Print the result\n",
    "print(result)  # [1, 4, 3, 8, 5]"
   ]
  },
  {
   "cell_type": "markdown",
   "id": "09a0a006",
   "metadata": {},
   "source": [
    "# REDUCE()"
   ]
  },
  {
   "cell_type": "code",
   "execution_count": 102,
   "id": "3583547e",
   "metadata": {},
   "outputs": [
    {
     "name": "stdout",
     "output_type": "stream",
     "text": [
      "The sum of the list elements is : 17\n",
      "The maximum element of the list is : 6\n"
     ]
    }
   ],
   "source": [
    "# python code to demonstrate working of reduce()\n",
    " \n",
    "# importing functools for reduce()\n",
    "import functools\n",
    " \n",
    "# initializing list\n",
    "lis = [1, 3, 5, 6, 2]\n",
    " \n",
    "# using reduce to compute sum of list\n",
    "print(\"The sum of the list elements is : \", end=\"\")\n",
    "print(functools.reduce(lambda a, b: a+b, lis))\n",
    " \n",
    "# using reduce to compute maximum element from list\n",
    "print(\"The maximum element of the list is : \", end=\"\")\n",
    "print(functools.reduce(lambda a, b: a if a > b else b, lis))"
   ]
  },
  {
   "cell_type": "code",
   "execution_count": 103,
   "id": "bde3a057",
   "metadata": {},
   "outputs": [
    {
     "name": "stdout",
     "output_type": "stream",
     "text": [
      "The summation of list using accumulate is :[1, 4, 8, 18, 22]\n",
      "The summation of list using reduce is :22\n"
     ]
    }
   ],
   "source": [
    "# python code to demonstrate summation\n",
    "# using reduce() and accumulate()\n",
    " \n",
    "# importing itertools for accumulate()\n",
    "import itertools\n",
    " \n",
    "# importing functools for reduce()\n",
    "import functools\n",
    " \n",
    "# initializing list\n",
    "lis = [1, 3, 4, 10, 4]\n",
    " \n",
    "# printing summation using accumulate()\n",
    "print(\"The summation of list using accumulate is :\", end=\"\")\n",
    "print(list(itertools.accumulate(lis, lambda x, y: x+y)))\n",
    " \n",
    "# printing summation using reduce()\n",
    "print(\"The summation of list using reduce is :\", end=\"\")\n",
    "print(functools.reduce(lambda x, y: x+y, lis))"
   ]
  },
  {
   "cell_type": "code",
   "execution_count": 104,
   "id": "5ee8fb00",
   "metadata": {},
   "outputs": [
    {
     "name": "stdout",
     "output_type": "stream",
     "text": [
      "15\n"
     ]
    }
   ],
   "source": [
    "# Python program to  illustrate sum of two numbers.\n",
    "def reduce(function, iterable, initializer=None):\n",
    "    it = iter(iterable)\n",
    "    if initializer is None:\n",
    "        value = next(it)\n",
    "    else:\n",
    "        value = initializer\n",
    "    for element in it:\n",
    "        value = function(value, element)\n",
    "    return value\n",
    " \n",
    "# Note that the initializer, when not None, is used as the first value instead of the first value from iterable , and after the whole iterable.\n",
    "tup = (2,1,0,2,2,0,0,2)\n",
    "print(reduce(lambda x, y: x+y, tup,6))\n",
    " "
   ]
  },
  {
   "cell_type": "code",
   "execution_count": 105,
   "id": "aa5e1e18",
   "metadata": {},
   "outputs": [
    {
     "name": "stdout",
     "output_type": "stream",
     "text": [
      "[1, 3, 5, 13]\n",
      "[0, 2, 8]\n"
     ]
    }
   ],
   "source": [
    "# a list contains both even and odd numbers.\n",
    "seq = [0, 1, 2, 3, 5, 8, 13]\n",
    " \n",
    "# result contains odd numbers of the list\n",
    "result = filter(lambda x: x % 2 != 0, seq)\n",
    "print(list(result))\n",
    " \n",
    "# result contains even numbers of the list\n",
    "result = filter(lambda x: x % 2 == 0, seq)\n",
    "print(list(result))"
   ]
  },
  {
   "cell_type": "code",
   "execution_count": 106,
   "id": "859ce6c8",
   "metadata": {},
   "outputs": [
    {
     "name": "stdout",
     "output_type": "stream",
     "text": [
      "[3, 6, 9]\n"
     ]
    }
   ],
   "source": [
    "#Define a function to check if a number is a multiple of 3\n",
    "def is_multiple_of_3(num):\n",
    "    return num % 3 == 0\n",
    " \n",
    "# Create a list of numbers to filter\n",
    "numbers = [1, 2, 3, 4, 5, 6, 7, 8, 9, 10]\n",
    " \n",
    "# Use filter and a lambda function to filter the list of numbers\n",
    "# and only keep the ones that are multiples of 3\n",
    "result = list(filter(lambda x: is_multiple_of_3(x), numbers))\n",
    " \n",
    "# Print the result\n",
    "print(result)  # [3, 6, 9]"
   ]
  },
  {
   "cell_type": "markdown",
   "id": "41b19d92",
   "metadata": {},
   "source": [
    "# Input Command"
   ]
  },
  {
   "cell_type": "code",
   "execution_count": 87,
   "id": "ad9b142a",
   "metadata": {},
   "outputs": [
    {
     "ename": "TypeError",
     "evalue": "'str' object is not callable",
     "output_type": "error",
     "traceback": [
      "\u001b[1;31m---------------------------------------------------------------------------\u001b[0m",
      "\u001b[1;31mTypeError\u001b[0m                                 Traceback (most recent call last)",
      "\u001b[1;32m~\\AppData\\Local\\Temp\\ipykernel_9564\\1290019835.py\u001b[0m in \u001b[0;36m<module>\u001b[1;34m\u001b[0m\n\u001b[1;32m----> 1\u001b[1;33m \u001b[0minput\u001b[0m\u001b[1;33m(\u001b[0m\u001b[1;33m)\u001b[0m\u001b[1;33m\u001b[0m\u001b[1;33m\u001b[0m\u001b[0m\n\u001b[0m",
      "\u001b[1;31mTypeError\u001b[0m: 'str' object is not callable"
     ]
    }
   ],
   "source": [
    "input()"
   ]
  },
  {
   "cell_type": "raw",
   "id": "934e294d",
   "metadata": {},
   "source": [
    "# Girdinin kesme işaretleri string type olduğunu gösterir objenin\n",
    "The apostrophes of the input indicate that it is a string type variable"
   ]
  },
  {
   "cell_type": "raw",
   "id": "47d18ea5",
   "metadata": {},
   "source": [
    "Convert string type to integer type"
   ]
  },
  {
   "cell_type": "markdown",
   "id": "e2772b84",
   "metadata": {},
   "source": [
    "# Query if data is odd or even"
   ]
  },
  {
   "cell_type": "code",
   "execution_count": 83,
   "id": "200550c1",
   "metadata": {},
   "outputs": [],
   "source": [
    "def application():\n",
    "    input = input(\"Enter a number:\")\n",
    "    process = input(\"Query if data is odd or even:\")\n",
    "    \n",
    "    if process =='odd':\n",
    "        if int(input)%2==0:\n",
    "            return 'Yes This is the odd number'\n",
    "        else:\n",
    "            return 'No This is not the odd number'\n",
    "    elif process == 'even':\n",
    "        if int(input)%2==1:\n",
    "             return 'Yes This is the even number'\n",
    "        else:\n",
    "            return 'No This is not the even number'"
   ]
  },
  {
   "cell_type": "code",
   "execution_count": 84,
   "id": "74958f3f",
   "metadata": {},
   "outputs": [
    {
     "ename": "UnboundLocalError",
     "evalue": "local variable 'input' referenced before assignment",
     "output_type": "error",
     "traceback": [
      "\u001b[1;31m---------------------------------------------------------------------------\u001b[0m",
      "\u001b[1;31mUnboundLocalError\u001b[0m                         Traceback (most recent call last)",
      "\u001b[1;32m~\\AppData\\Local\\Temp\\ipykernel_9564\\3681444525.py\u001b[0m in \u001b[0;36m<module>\u001b[1;34m\u001b[0m\n\u001b[1;32m----> 1\u001b[1;33m \u001b[0mapplication\u001b[0m\u001b[1;33m(\u001b[0m\u001b[1;33m)\u001b[0m\u001b[1;33m\u001b[0m\u001b[1;33m\u001b[0m\u001b[0m\n\u001b[0m",
      "\u001b[1;32m~\\AppData\\Local\\Temp\\ipykernel_9564\\1671881625.py\u001b[0m in \u001b[0;36mapplication\u001b[1;34m()\u001b[0m\n\u001b[0;32m      1\u001b[0m \u001b[1;32mdef\u001b[0m \u001b[0mapplication\u001b[0m\u001b[1;33m(\u001b[0m\u001b[1;33m)\u001b[0m\u001b[1;33m:\u001b[0m\u001b[1;33m\u001b[0m\u001b[1;33m\u001b[0m\u001b[0m\n\u001b[1;32m----> 2\u001b[1;33m     \u001b[0minput\u001b[0m \u001b[1;33m=\u001b[0m \u001b[0minput\u001b[0m\u001b[1;33m(\u001b[0m\u001b[1;34m\"Enter a number:\"\u001b[0m\u001b[1;33m)\u001b[0m\u001b[1;33m\u001b[0m\u001b[1;33m\u001b[0m\u001b[0m\n\u001b[0m\u001b[0;32m      3\u001b[0m     \u001b[0mprocess\u001b[0m \u001b[1;33m=\u001b[0m \u001b[0minput\u001b[0m\u001b[1;33m(\u001b[0m\u001b[1;34m\"Query if data is odd or even:\"\u001b[0m\u001b[1;33m)\u001b[0m\u001b[1;33m\u001b[0m\u001b[1;33m\u001b[0m\u001b[0m\n\u001b[0;32m      4\u001b[0m \u001b[1;33m\u001b[0m\u001b[0m\n\u001b[0;32m      5\u001b[0m     \u001b[1;32mif\u001b[0m \u001b[0mprocess\u001b[0m \u001b[1;33m==\u001b[0m\u001b[1;34m'odd'\u001b[0m\u001b[1;33m:\u001b[0m\u001b[1;33m\u001b[0m\u001b[1;33m\u001b[0m\u001b[0m\n",
      "\u001b[1;31mUnboundLocalError\u001b[0m: local variable 'input' referenced before assignment"
     ]
    }
   ],
   "source": [
    "application()"
   ]
  },
  {
   "cell_type": "code",
   "execution_count": null,
   "id": "86c5ccb9",
   "metadata": {},
   "outputs": [],
   "source": []
  },
  {
   "cell_type": "code",
   "execution_count": null,
   "id": "8fb2fffb",
   "metadata": {},
   "outputs": [],
   "source": []
  },
  {
   "cell_type": "code",
   "execution_count": null,
   "id": "775e4ecd",
   "metadata": {},
   "outputs": [],
   "source": []
  },
  {
   "cell_type": "code",
   "execution_count": null,
   "id": "327b5140",
   "metadata": {},
   "outputs": [],
   "source": []
  },
  {
   "cell_type": "code",
   "execution_count": null,
   "id": "63eadefa",
   "metadata": {},
   "outputs": [],
   "source": []
  },
  {
   "cell_type": "code",
   "execution_count": null,
   "id": "985592fb",
   "metadata": {},
   "outputs": [],
   "source": []
  },
  {
   "cell_type": "code",
   "execution_count": null,
   "id": "5a1a300d",
   "metadata": {},
   "outputs": [],
   "source": []
  },
  {
   "cell_type": "code",
   "execution_count": null,
   "id": "5f5c2f67",
   "metadata": {},
   "outputs": [],
   "source": []
  },
  {
   "cell_type": "code",
   "execution_count": null,
   "id": "01eff510",
   "metadata": {},
   "outputs": [],
   "source": []
  },
  {
   "cell_type": "code",
   "execution_count": null,
   "id": "139ce468",
   "metadata": {},
   "outputs": [],
   "source": []
  },
  {
   "cell_type": "code",
   "execution_count": null,
   "id": "9df1d50f",
   "metadata": {},
   "outputs": [],
   "source": []
  },
  {
   "cell_type": "code",
   "execution_count": null,
   "id": "497ca170",
   "metadata": {},
   "outputs": [],
   "source": []
  },
  {
   "cell_type": "code",
   "execution_count": null,
   "id": "aaabb2d7",
   "metadata": {},
   "outputs": [],
   "source": []
  },
  {
   "cell_type": "code",
   "execution_count": null,
   "id": "0f4b4106",
   "metadata": {},
   "outputs": [],
   "source": []
  },
  {
   "cell_type": "code",
   "execution_count": null,
   "id": "f11c9965",
   "metadata": {},
   "outputs": [],
   "source": []
  }
 ],
 "metadata": {
  "kernelspec": {
   "display_name": "Python 3 (ipykernel)",
   "language": "python",
   "name": "python3"
  },
  "language_info": {
   "codemirror_mode": {
    "name": "ipython",
    "version": 3
   },
   "file_extension": ".py",
   "mimetype": "text/x-python",
   "name": "python",
   "nbconvert_exporter": "python",
   "pygments_lexer": "ipython3",
   "version": "3.9.13"
  }
 },
 "nbformat": 4,
 "nbformat_minor": 5
}
