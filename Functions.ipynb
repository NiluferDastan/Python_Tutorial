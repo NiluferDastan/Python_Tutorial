{
 "cells": [
  {
   "cell_type": "raw",
   "id": "2ef40ac2",
   "metadata": {},
   "source": [
    "def <function_name> (<arguments>): #snake_case\n",
    "    \"\"\"\"                           \n",
    "    What does this code do         #docstring\n",
    "    \"\"\"\n",
    "    ...                            #return/print"
   ]
  },
  {
   "cell_type": "code",
   "execution_count": 17,
   "id": "9cc68174",
   "metadata": {},
   "outputs": [],
   "source": [
    "def five_push():\n",
    "    print(5)"
   ]
  },
  {
   "cell_type": "code",
   "execution_count": 18,
   "id": "c0366192",
   "metadata": {},
   "outputs": [
    {
     "name": "stdout",
     "output_type": "stream",
     "text": [
      "5\n"
     ]
    }
   ],
   "source": [
    "five_push()"
   ]
  },
  {
   "cell_type": "code",
   "execution_count": 19,
   "id": "d8904f64",
   "metadata": {},
   "outputs": [
    {
     "name": "stdout",
     "output_type": "stream",
     "text": [
      "5\n"
     ]
    }
   ],
   "source": [
    "print(5)   "
   ]
  },
  {
   "cell_type": "raw",
   "id": "4bb8694d",
   "metadata": {},
   "source": [
    "Docstring If someone read your codes docestring helps each one\n",
    "def five_push():\n",
    "    \"\"\"\n",
    "    arguman1 : int :\n",
    "    return: string :\n",
    "    \"\"\"\n",
    "    print(5)"
   ]
  },
  {
   "cell_type": "markdown",
   "id": "040bf572",
   "metadata": {},
   "source": [
    "# Print Returns Difference in Functions"
   ]
  },
  {
   "cell_type": "code",
   "execution_count": 20,
   "id": "0c8ae79a",
   "metadata": {},
   "outputs": [],
   "source": [
    "def five_return():\n",
    "    return(5)"
   ]
  },
  {
   "cell_type": "code",
   "execution_count": 21,
   "id": "000d8edd",
   "metadata": {},
   "outputs": [
    {
     "data": {
      "text/plain": [
       "5"
      ]
     },
     "execution_count": 21,
     "metadata": {},
     "output_type": "execute_result"
    }
   ],
   "source": [
    "five_return()"
   ]
  },
  {
   "cell_type": "code",
   "execution_count": 24,
   "id": "0ebb42e7",
   "metadata": {},
   "outputs": [
    {
     "name": "stdout",
     "output_type": "stream",
     "text": [
      "5\n",
      "None\n"
     ]
    }
   ],
   "source": [
    "a = five_push()\n",
    "print(a)"
   ]
  },
  {
   "cell_type": "code",
   "execution_count": 25,
   "id": "80d1b03d",
   "metadata": {},
   "outputs": [
    {
     "name": "stdout",
     "output_type": "stream",
     "text": [
      "5\n"
     ]
    }
   ],
   "source": [
    "b = five_return()\n",
    "print(b)"
   ]
  },
  {
   "cell_type": "markdown",
   "id": "661e3de1",
   "metadata": {},
   "source": [
    "Arguments in Functions"
   ]
  },
  {
   "cell_type": "code",
   "execution_count": 30,
   "id": "aec6a659",
   "metadata": {},
   "outputs": [],
   "source": [
    "def loop_numb(number):\n",
    "    return number"
   ]
  },
  {
   "cell_type": "code",
   "execution_count": 31,
   "id": "f895523c",
   "metadata": {},
   "outputs": [
    {
     "data": {
      "text/plain": [
       "'sdaad'"
      ]
     },
     "execution_count": 31,
     "metadata": {},
     "output_type": "execute_result"
    }
   ],
   "source": [
    "loop_numb(\"sdaad\")"
   ]
  },
  {
   "cell_type": "code",
   "execution_count": 32,
   "id": "82edb4d1",
   "metadata": {},
   "outputs": [
    {
     "data": {
      "text/plain": [
       "100"
      ]
     },
     "execution_count": 32,
     "metadata": {},
     "output_type": "execute_result"
    }
   ],
   "source": [
    "loop_numb(100)"
   ]
  },
  {
   "cell_type": "code",
   "execution_count": 33,
   "id": "e0c1b6f1",
   "metadata": {},
   "outputs": [],
   "source": [
    "def loop_numb(number=250):\n",
    "    return number"
   ]
  },
  {
   "cell_type": "code",
   "execution_count": 34,
   "id": "617de070",
   "metadata": {},
   "outputs": [
    {
     "data": {
      "text/plain": [
       "89"
      ]
     },
     "execution_count": 34,
     "metadata": {},
     "output_type": "execute_result"
    }
   ],
   "source": [
    "loop_numb(89)"
   ]
  },
  {
   "cell_type": "code",
   "execution_count": 35,
   "id": "fd366158",
   "metadata": {},
   "outputs": [
    {
     "data": {
      "text/plain": [
       "250"
      ]
     },
     "execution_count": 35,
     "metadata": {},
     "output_type": "execute_result"
    }
   ],
   "source": [
    "loop_numb()   #Aksi iddia edilmedikçe default rakam 250 olur.\n",
    "              #Unless otherwise claimed default number is 250. Default mechanism in arguments"
   ]
  },
  {
   "cell_type": "code",
   "execution_count": 36,
   "id": "d37d3253",
   "metadata": {},
   "outputs": [],
   "source": [
    "def loop_large_number(a,b):\n",
    "    if a>b:\n",
    "        return a\n",
    "    elif b>a:\n",
    "        return b"
   ]
  },
  {
   "cell_type": "code",
   "execution_count": 37,
   "id": "d60b90dc",
   "metadata": {},
   "outputs": [
    {
     "data": {
      "text/plain": [
       "10"
      ]
     },
     "execution_count": 37,
     "metadata": {},
     "output_type": "execute_result"
    }
   ],
   "source": [
    "loop_large_number(5,10)"
   ]
  },
  {
   "cell_type": "markdown",
   "id": "8ecfdee7",
   "metadata": {},
   "source": [
    "# Relationship of different functions with each other"
   ]
  },
  {
   "cell_type": "code",
   "execution_count": 38,
   "id": "ec7668d6",
   "metadata": {},
   "outputs": [],
   "source": [
    "def write_text(a,b):\n",
    "    large_number = loop_large_number(a,b)\n",
    "    template_text = \"{} is the larger number\" .format(large_number)\n",
    "    print(template_text)"
   ]
  },
  {
   "cell_type": "code",
   "execution_count": 39,
   "id": "fc9b5371",
   "metadata": {},
   "outputs": [
    {
     "name": "stdout",
     "output_type": "stream",
     "text": [
      "10 is the larger number\n"
     ]
    }
   ],
   "source": [
    "write_text(5,10)"
   ]
  },
  {
   "cell_type": "raw",
   "id": "d4d6e0a6",
   "metadata": {},
   "source": [
    "Fonksiyonlarda birden fazla sonuç döndürülebilir\n",
    "Multiple results can be returned in functions"
   ]
  },
  {
   "cell_type": "code",
   "execution_count": 40,
   "id": "ff253c6d",
   "metadata": {},
   "outputs": [
    {
     "data": {
      "text/plain": [
       "['Nilufer', 'Dastan']"
      ]
     },
     "execution_count": 40,
     "metadata": {},
     "output_type": "execute_result"
    }
   ],
   "source": [
    "\"Nilufer Dastan\".split()"
   ]
  },
  {
   "cell_type": "code",
   "execution_count": 41,
   "id": "7ca30cca",
   "metadata": {},
   "outputs": [],
   "source": [
    "def seperate_name_surname(name_surname):\n",
    "    name=name_surname.split()[0]\n",
    "    surname=name_surname.split()[1]\n",
    "    return name, surname"
   ]
  },
  {
   "cell_type": "code",
   "execution_count": 42,
   "id": "eb041b6b",
   "metadata": {},
   "outputs": [
    {
     "data": {
      "text/plain": [
       "('Nilufer', 'Dastan')"
      ]
     },
     "execution_count": 42,
     "metadata": {},
     "output_type": "execute_result"
    }
   ],
   "source": [
    "seperate_name_surname(\"Nilufer Dastan\")"
   ]
  },
  {
   "cell_type": "code",
   "execution_count": 44,
   "id": "858c509d",
   "metadata": {},
   "outputs": [
    {
     "name": "stdout",
     "output_type": "stream",
     "text": [
      "Nilufer\n",
      "Dastan\n"
     ]
    }
   ],
   "source": [
    "a,b = seperate_name_surname(\"Nilufer Dastan\") #Double loop\n",
    "print(a)\n",
    "print(b)"
   ]
  },
  {
   "cell_type": "markdown",
   "id": "b6a0b31f",
   "metadata": {},
   "source": [
    "# Args Argument"
   ]
  },
  {
   "cell_type": "code",
   "execution_count": 47,
   "id": "52028207",
   "metadata": {},
   "outputs": [
    {
     "data": {
      "text/plain": [
       "'Nilufer-Dastan'"
      ]
     },
     "execution_count": 47,
     "metadata": {},
     "output_type": "execute_result"
    }
   ],
   "source": [
    "\"-\".join([\"Nilufer\",\"Dastan\"])"
   ]
  },
  {
   "cell_type": "code",
   "execution_count": 53,
   "id": "a58397ee",
   "metadata": {},
   "outputs": [],
   "source": [
    "def combine_name_surname(name,surname):\n",
    "    return \" \".join([name,surname])"
   ]
  },
  {
   "cell_type": "code",
   "execution_count": 54,
   "id": "30f97b58",
   "metadata": {},
   "outputs": [
    {
     "data": {
      "text/plain": [
       "'Harold Lou'"
      ]
     },
     "execution_count": 54,
     "metadata": {},
     "output_type": "execute_result"
    }
   ],
   "source": [
    "combine_name_surname(\"Harold\", \"Lou\")"
   ]
  },
  {
   "cell_type": "code",
   "execution_count": 55,
   "id": "519653a9",
   "metadata": {},
   "outputs": [
    {
     "ename": "TypeError",
     "evalue": "combine_name_surname() takes 2 positional arguments but 3 were given",
     "output_type": "error",
     "traceback": [
      "\u001b[1;31m---------------------------------------------------------------------------\u001b[0m",
      "\u001b[1;31mTypeError\u001b[0m                                 Traceback (most recent call last)",
      "\u001b[1;32m~\\AppData\\Local\\Temp\\ipykernel_10348\\144831972.py\u001b[0m in \u001b[0;36m<module>\u001b[1;34m\u001b[0m\n\u001b[1;32m----> 1\u001b[1;33m \u001b[0mcombine_name_surname\u001b[0m\u001b[1;33m(\u001b[0m\u001b[1;34m\"Harold\"\u001b[0m\u001b[1;33m,\u001b[0m \u001b[1;34m\"Lou\"\u001b[0m\u001b[1;33m,\u001b[0m\u001b[1;34m\"Joe\"\u001b[0m\u001b[1;33m)\u001b[0m\u001b[1;33m\u001b[0m\u001b[1;33m\u001b[0m\u001b[0m\n\u001b[0m",
      "\u001b[1;31mTypeError\u001b[0m: combine_name_surname() takes 2 positional arguments but 3 were given"
     ]
    }
   ],
   "source": [
    "combine_name_surname(\"Harold\", \"Lou\",\"Joe\") #Args arguments working on this situation. Args referenced for lists."
   ]
  },
  {
   "cell_type": "code",
   "execution_count": 56,
   "id": "9b5752f7",
   "metadata": {},
   "outputs": [],
   "source": [
    "def combine_name_surname(*args):\n",
    "    return \" \".join(args)"
   ]
  },
  {
   "cell_type": "code",
   "execution_count": 57,
   "id": "45ec2451",
   "metadata": {},
   "outputs": [
    {
     "data": {
      "text/plain": [
       "'Harold Lou Joe'"
      ]
     },
     "execution_count": 57,
     "metadata": {},
     "output_type": "execute_result"
    }
   ],
   "source": [
    "combine_name_surname(\"Harold\", \"Lou\",\"Joe\") "
   ]
  },
  {
   "cell_type": "code",
   "execution_count": 58,
   "id": "2ea8a9ac",
   "metadata": {},
   "outputs": [],
   "source": [
    "def combine_name_surname(*args):\n",
    "    for item in args:\n",
    "        print(item)\n",
    "    return \" \".join(args)"
   ]
  },
  {
   "cell_type": "code",
   "execution_count": 59,
   "id": "1730db00",
   "metadata": {},
   "outputs": [
    {
     "name": "stdout",
     "output_type": "stream",
     "text": [
      "Harold\n",
      "Lou\n",
      "Joe\n"
     ]
    },
    {
     "data": {
      "text/plain": [
       "'Harold Lou Joe'"
      ]
     },
     "execution_count": 59,
     "metadata": {},
     "output_type": "execute_result"
    }
   ],
   "source": [
    "combine_name_surname(\"Harold\", \"Lou\",\"Joe\") "
   ]
  },
  {
   "cell_type": "code",
   "execution_count": 64,
   "id": "85ca1275",
   "metadata": {},
   "outputs": [],
   "source": [
    "#Keyword argument \n",
    "def another_name_surname(**kwargs):\n",
    "    if \"another\" in kwargs:\n",
    "        print(kwargs['another'])\n",
    "        \n",
    "    else:\n",
    "        print(\"another doesn't exist\")"
   ]
  },
  {
   "cell_type": "code",
   "execution_count": 65,
   "id": "e214c661",
   "metadata": {},
   "outputs": [
    {
     "name": "stdout",
     "output_type": "stream",
     "text": [
      "mesut\n"
     ]
    }
   ],
   "source": [
    "another_name_surname(name=\"erol\", another=\"mesut\", surname=\"gun\")"
   ]
  },
  {
   "cell_type": "code",
   "execution_count": 66,
   "id": "c1fad138",
   "metadata": {},
   "outputs": [
    {
     "name": "stdout",
     "output_type": "stream",
     "text": [
      "another doesn't exist\n"
     ]
    }
   ],
   "source": [
    "another_name_surname(name=\"erol\", surname=\"gun\")"
   ]
  },
  {
   "cell_type": "code",
   "execution_count": null,
   "id": "ea7edf57",
   "metadata": {},
   "outputs": [],
   "source": [
    "\n"
   ]
  }
 ],
 "metadata": {
  "kernelspec": {
   "display_name": "Python 3 (ipykernel)",
   "language": "python",
   "name": "python3"
  },
  "language_info": {
   "codemirror_mode": {
    "name": "ipython",
    "version": 3
   },
   "file_extension": ".py",
   "mimetype": "text/x-python",
   "name": "python",
   "nbconvert_exporter": "python",
   "pygments_lexer": "ipython3",
   "version": "3.9.13"
  }
 },
 "nbformat": 4,
 "nbformat_minor": 5
}
